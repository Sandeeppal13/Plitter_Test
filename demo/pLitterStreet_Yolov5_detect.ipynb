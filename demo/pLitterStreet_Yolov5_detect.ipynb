{
  "cells": [
    {
      "cell_type": "markdown",
      "metadata": {
        "id": "fphVxd3Ecu_3"
      },
      "source": [
        "Download the trained weights for plitterStreet detections"
      ]
    },
    {
      "cell_type": "code",
      "execution_count": null,
      "metadata": {
        "id": "2iRoAAX31IoS"
      },
      "outputs": [],
      "source": [
        "# !git clone https://github.com/gicait/pLitter\n",
        "# !pip install /content/pLitter"
      ]
    },
    {
      "cell_type": "code",
      "execution_count": null,
      "metadata": {
        "id": "NovpojexZa7j"
      },
      "outputs": [],
      "source": [
        "!wget --load-cookies /tmp/cookies.txt \"https://docs.google.com/uc?export=download&confirm=$(wget --quiet --save-cookies /tmp/cookies.txt --keep-session-cookies --no-check-certificate 'https://docs.google.com/uc?export=download&id=1lRKR5SfjhmaWichmBg2TWPufUVDed4zF' -O- | sed -rn 's/.*confirm=([0-9A-Za-z_]+).*/\\1\\n/p')&id=1lRKR5SfjhmaWichmBg2TWPufUVDed4zF\" -O /content/yolov5l.pt && rm -rf /tmp/cookies.txt"
      ]
    },
    {
      "cell_type": "code",
      "execution_count": null,
      "metadata": {
        "id": "FO31crDY2ItQ"
      },
      "outputs": [],
      "source": [
        "# !mkdir data\n",
        "# !wget --load-cookies /tmp/cookies.txt \"https://docs.google.com/uc?export=download&confirm=$(wget --quiet --save-cookies /tmp/cookies.txt --keep-session-cookies --no-check-certificate 'https://docs.google.com/uc?export=download&id=1nHRp1_0oik9fVsY0tmVuyarjuxPdXyDL' -O- | sed -rn 's/.*confirm=([0-9A-Za-z_]+).*/\\1\\n/p')&id=1nHRp1_0oik9fVsY0tmVuyarjuxPdXyDL\" -O data/sample.zip && rm -rf /tmp/cookies.txt\n",
        "# !unzip data/sample.zip -d data/.\n",
        "# !rm -rf 'data/sample.zip'"
      ]
    },
    {
      "cell_type": "markdown",
      "metadata": {
        "id": "-KByPyQ5xoy6"
      },
      "source": [
        "GoPro videos not working properly with opencv\n",
        "\n",
        "use ffmpeg to copy the video track to a new file \n"
      ]
    },
    {
      "cell_type": "code",
      "execution_count": null,
      "metadata": {
        "id": "JT3KhXdul1St"
      },
      "outputs": [],
      "source": [
        "# %cd 'directory_to_videos'\n",
        "\n",
        "# !for FILE in *.MP4; do ffmpeg -i $FILE -c:v copy \"target_dir_to_save_video_tracks\"/${FILE//MP4/mp4} -y; done"
      ]
    },
    {
      "cell_type": "code",
      "execution_count": 4,
      "metadata": {
        "id": "V6DhE4HedCOE"
      },
      "outputs": [],
      "source": [
        "import os, cv2, json, time\n",
        "import torch\n",
        "# from plitterstreet.predict import draw_boxes_on_image"
      ]
    },
    {
      "cell_type": "code",
      "execution_count": 5,
      "metadata": {
        "id": "89loTTiKGxtE"
      },
      "outputs": [],
      "source": [
        "colors = [(0,255,255), (0,0,255), (255,0,0), (0,255,0)]\n",
        "def draw_boxes_on_image(image, boxes, classes, class_ids, scores, use_normalized_coordinates=True, min_score_thresh=.3):\n",
        "    assert len(boxes) == len(scores) == len(classes)\n",
        "    for i in range(len(boxes)):\n",
        "        box = boxes[i]\n",
        "        category = str(classes[i])\n",
        "        class_id = int(class_ids[i])\n",
        "        score = scores[i]\n",
        "        if score >= min_score_thresh:\n",
        "          if use_normalized_coordinates:\n",
        "            h,w,_ = image.shape\n",
        "            y1 = int(box[0]*h)\n",
        "            x1 = int(box[1]*w)\n",
        "            y2 = int(box[2]*h)\n",
        "            x2 = int(box[3]*w)  \n",
        "          else:\n",
        "            x1,y1,x2,y2 = int(box[0]), int(box[1]), int(box[2]), int(box[3])\n",
        "          image = cv2.rectangle(image, (x1, y1), (x2, y2), colors[class_id], 2)\n",
        "          cv2.putText(image, category+':'+str(round(score,2)), (x1, y1-5), cv2.FONT_HERSHEY_SIMPLEX, 0.5, colors[class_id], 1)\n",
        "    return image"
      ]
    },
    {
      "cell_type": "code",
      "execution_count": null,
      "metadata": {
        "id": "n4YEHbmLddoN"
      },
      "outputs": [],
      "source": [
        "weights = '/content/yolov5l.pt'\n",
        "model = torch.hub.load('ultralytics/yolov5', 'custom', weights, force_reload=True)"
      ]
    },
    {
      "cell_type": "code",
      "execution_count": 7,
      "metadata": {
        "id": "1R9V8GezzC2H"
      },
      "outputs": [],
      "source": [
        "# img = cv2.imread('/content/drive/MyDrive/roxana-charles-st-gopro-capture-sept30/GH010017/GH010017_10.jpg')\n",
        "# preds = model(img, size=1280)\n",
        "# class_ids = preds.xyxy[0].cpu().numpy()[:, 5]\n",
        "# classes = [preds.names[cls] for cls in class_ids]\n",
        "# scores = preds.xyxy[0].cpu().numpy()[:, 4]\n",
        "# boxes = preds.xyxy[0].cpu().numpy()[:,:4]\n",
        "# img = draw_boxes_on_image(img, boxes, classes, class_ids, scores, use_normalized_coordinates=False, min_score_thresh=.4)\n",
        "\n",
        "# from google.colab.patches import cv2_imshow\n",
        "# cv2_imshow(img)"
      ]
    },
    {
      "cell_type": "code",
      "execution_count": null,
      "metadata": {
        "id": "ZlaBz_HCYxIQ"
      },
      "outputs": [],
      "source": [
        "#to do\n",
        "#pandas to any file format\n",
        "#tracking"
      ]
    },
    {
      "cell_type": "code",
      "execution_count": 14,
      "metadata": {
        "colab": {
          "base_uri": "https://localhost:8080/"
        },
        "id": "BGATiKJ2yuOD",
        "outputId": "e0ad5c6b-4d21-46d5-9bdc-8a57ea87b7ec"
      },
      "outputs": [
        {
          "name": "stdout",
          "output_type": "stream",
          "text": [
            "source should not be same as target, creating run folder insode to save results\n",
            "['sample_video.mp4']\n",
            "sample_video.mp4\n",
            "data/run/sample_video.mp4\n",
            "55.39088177680969\n"
          ]
        }
      ],
      "source": [
        "source = 'data'\n",
        "target = 'data'\n",
        "\n",
        "if source == target:\n",
        "  print('source should not be same as target, creating run folder insode to save results')\n",
        "  os.makedirs(source+'/'+'run', exist_ok=True)\n",
        "  target = source+'/'+'run'\n",
        "  # assert(False)\n",
        "\n",
        "\n",
        "if os.path.isfile(source):\n",
        "  dataset = [os.path.basename(source)]\n",
        "  source = os.path.dirname(source)\n",
        "elif os.path.isdir(source):\n",
        "  dataset = sorted([im for im in os.listdir(source) if im.lower().endswith(('.mp4', '.avi', '.jpg', '.png'))])\n",
        "else:\n",
        "  print('please check source is correct')\n",
        "\n",
        "print(dataset)\n",
        "\n",
        "for fn in dataset:\n",
        "  print(fn)\n",
        "  if fn.endswith(('.jpg', '.png')):\n",
        "    img = cv2.imread(os.path.join(source, fn))\n",
        "    preds = model(img, size=1280)\n",
        "    class_ids = preds.xyxy[0].cpu().numpy()[:, 5]\n",
        "    classes = [preds.names[cls] for cls in class_ids]\n",
        "    scores = preds.xyxy[0].cpu().numpy()[:, 4]\n",
        "    boxes = preds.xyxy[0].cpu().numpy()[:,:4]\n",
        "    img = draw_boxes_on_image(img, boxes, classes, class_ids, scores, use_normalized_coordinates=False, min_score_thresh=.4)\n",
        "    cv2.imwrite(os.path.join(target, fn), img)\n",
        "    pred_json = {'file_name': fn, 'category_ids': class_ids, 'boxes': boxes, 'scores': scores}\n",
        "    json.dump(pred_json, os.path.join(target, fn.replace(('.jpg', '.png'), '.json')))\n",
        "  else:\n",
        "    st = time.time()\n",
        "    vid = cv2.VideoCapture(os.path.join(source, fn))\n",
        "    width  = int(vid.get(cv2.CAP_PROP_FRAME_WIDTH))\n",
        "    height = int(vid.get(cv2.CAP_PROP_FRAME_HEIGHT))\n",
        "    fps = int(vid.get(cv2.CAP_PROP_FPS))\n",
        "    # print(width, height)\n",
        "    # fn_r = os.path.join(target, fn.split('.')[0]+'.avi')\n",
        "    fn_r = os.path.join(target, fn)\n",
        "    print(fn_r)\n",
        "    # result = cv2.VideoWriter(fn_r, cv2.VideoWriter_fourcc(*'MJPG'), fps, (width, height))\n",
        "    result = cv2.VideoWriter(fn_r, cv2.VideoWriter_fourcc(*'MP4V'), fps, (width, height))\n",
        "    # result = cv2.VideoWriter(fn_r, cv2.VideoWriter_fourcc(*'H264'), fps, (width, height))\n",
        "    pred_json = {'video': fn, 'preds': []}\n",
        "    c = 1\n",
        "    while True:\n",
        "        ret, img = vid.read()\n",
        "        if img is None:\n",
        "          json.dump(pred_json, open(os.path.splitext(fn_r)[0]+'.json', 'w'))\n",
        "          result.release()\n",
        "          vid.release()\n",
        "          break\n",
        "        preds = model(img, size=1280)\n",
        "        class_ids = preds.xyxy[0].cpu().numpy()[:, 5]\n",
        "        classes = [preds.names[cls] for cls in class_ids]\n",
        "        scores = preds.xyxy[0].cpu().numpy()[:, 4]\n",
        "        boxes = preds.xyxy[0].cpu().numpy()[:,:4]\n",
        "        im = draw_boxes_on_image(img, boxes, classes, class_ids, scores, use_normalized_coordinates=False, min_score_thresh=.4)\n",
        "        # cv2.imwrite('/content/frames/'+str(c)+'.jpg', im)\n",
        "        pred_json['preds'].append({'frame': c, 'category_ids': class_ids.tolist(), 'boxes': boxes.tolist(), 'scores': scores.tolist()})\n",
        "        # print(img.shape)\n",
        "        result.write(im)\n",
        "        c+=1\n",
        "    print(time.time()-st)"
      ]
    }
  ],
  "metadata": {
    "accelerator": "GPU",
    "colab": {
      "collapsed_sections": [],
      "provenance": []
    },
    "kernelspec": {
      "display_name": "Python 3",
      "name": "python3"
    },
    "language_info": {
      "name": "python"
    }
  },
  "nbformat": 4,
  "nbformat_minor": 0
}
