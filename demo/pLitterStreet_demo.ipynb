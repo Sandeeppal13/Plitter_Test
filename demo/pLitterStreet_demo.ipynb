{
 "cells": [
  {
   "cell_type": "code",
   "execution_count": null,
   "metadata": {
    "colab": {
     "base_uri": "https://localhost:8080/"
    },
    "id": "35ifKp8-Ouhn",
    "outputId": "31c62abd-e84d-41fa-8903-a4b4c12976b3"
   },
   "outputs": [],
   "source": [
    "!git clone https://github.com/gicait/plitterstreet.git\n",
    "!pip install --upgrade ../.\n",
    "# # exit(0)\n"
   ]
  },
  {
   "cell_type": "code",
   "execution_count": null,
   "metadata": {},
   "outputs": [],
   "source": [
    "!pwd"
   ]
  },
  {
   "cell_type": "code",
   "execution_count": null,
   "metadata": {
    "colab": {
     "base_uri": "https://localhost:8080/"
    },
    "id": "NovpojexZa7j",
    "outputId": "1791af08-9661-4da7-df3a-b80c334ff1d8"
   },
   "outputs": [],
   "source": [
    "# download a sample video from https://drive.google.com/file/d/1g5f1eL7iRRW1I99mJwV8ah_le9RH9aY0/view?usp=sharing\n",
    "# ignore downloading and modify path in the below cells, if you already have a video and gps data in csv file\n",
    "\n",
    "!mkdir /media/ryzen/DATA/scripts/tests/data\n",
    "!wget --load-cookies /tmp/cookies.txt \"https://docs.google.com/uc?export=download&confirm=$(wget --quiet --save-cookies /tmp/cookies.txt --keep-session-cookies --no-check-certificate 'https://docs.google.com/uc?export=download&id=1g5f1eL7iRRW1I99mJwV8ah_le9RH9aY0' -O- | sed -rn 's/.*confirm=([0-9A-Za-z_]+).*/\\1\\n/p')&id=1g5f1eL7iRRW1I99mJwV8ah_le9RH9aY0\" -O /media/ryzen/DATA/scripts/tests/data/sample.zip && rm -rf /tmp/cookies.txt\n",
    "!unzip /media/ryzen/DATA/scripts/tests/data/sample.zip -d /media/ryzen/DATA/scripts/tests/data/.\n",
    "!rm -rf '/media/ryzen/DATA/scripts/tests/data/sample.zip'"
   ]
  },
  {
   "cell_type": "code",
   "execution_count": null,
   "metadata": {
    "id": "yqlU4IZeZriU"
   },
   "outputs": [],
   "source": [
    "from plitterstreet.video import Video"
   ]
  },
  {
   "cell_type": "code",
   "execution_count": null,
   "metadata": {
    "colab": {
     "base_uri": "https://localhost:8080/",
     "height": 1000
    },
    "id": "dG6f_DO5Zx5B",
    "outputId": "deb4a580-bfb8-490d-b099-0eeb7d3de331"
   },
   "outputs": [],
   "source": [
    "vid = Video('/media/ryzen/DATA/scripts/tests/data/sample_video.mp4', '/media/ryzen/DATA/scripts/tests/data/sample_GPS5.csv')\n",
    "vid.ExtractbyGps()"
   ]
  },
  {
   "cell_type": "code",
   "execution_count": null,
   "metadata": {
    "id": "fM-htY6BaGtx"
   },
   "outputs": [],
   "source": [
    "from plitterstreet.plitter_street import StreetData"
   ]
  },
  {
   "cell_type": "code",
   "execution_count": null,
   "metadata": {
    "id": "D2DAAXX6cVWR"
   },
   "outputs": [],
   "source": [
    "street = StreetData('/media/ryzen/DATA/scripts/tests/data/sample_video')"
   ]
  },
  {
   "cell_type": "code",
   "execution_count": null,
   "metadata": {
    "colab": {
     "base_uri": "https://localhost:8080/",
     "height": 35
    },
    "id": "ivnlnsHT1--D",
    "outputId": "d97c0628-89e6-4b3c-a6cc-539948192807"
   },
   "outputs": [],
   "source": [
    "street.images_list"
   ]
  },
  {
   "cell_type": "code",
   "execution_count": null,
   "metadata": {
    "id": "L_Ve5qwFe0oZ"
   },
   "outputs": [],
   "source": [
    "street.load_images_from_dir()\n",
    "\n",
    "# sorted(street.images, key = lambda i: i['name'])"
   ]
  },
  {
   "cell_type": "code",
   "execution_count": null,
   "metadata": {
    "colab": {
     "base_uri": "https://localhost:8080/"
    },
    "id": "N1HvAdll2tkw",
    "outputId": "14ad598b-b32b-4275-fccb-62d8eed58730"
   },
   "outputs": [],
   "source": [
    "street.images"
   ]
  },
  {
   "cell_type": "code",
   "execution_count": null,
   "metadata": {
    "id": "6dXL1PBRe3HD"
   },
   "outputs": [],
   "source": [
    "from plitterstreet.predict import EdgePredictor"
   ]
  },
  {
   "cell_type": "code",
   "execution_count": null,
   "metadata": {
    "colab": {
     "base_uri": "https://localhost:8080/"
    },
    "id": "7Bim5Zbgf8KK",
    "outputId": "9c016c7e-8873-455a-e993-c2dcb498e38e"
   },
   "outputs": [],
   "source": [
    "predictor = EdgePredictor('automl_edge')"
   ]
  },
  {
   "cell_type": "code",
   "execution_count": null,
   "metadata": {
    "id": "BwSkLnvRY-ch"
   },
   "outputs": [],
   "source": [
    "street.predict_on_images(predictor, min_score_thr=0.25, dst_path='/media/ryzen/DATA/scripts/tests/data/sample_video')"
   ]
  },
  {
   "cell_type": "code",
   "execution_count": null,
   "metadata": {
    "colab": {
     "base_uri": "https://localhost:8080/"
    },
    "id": "yCIsz9SHhV42",
    "outputId": "9aa3f789-d4c1-4a6b-c7b7-1c95ed782567"
   },
   "outputs": [],
   "source": [
    "street.predictions"
   ]
  },
  {
   "cell_type": "code",
   "execution_count": null,
   "metadata": {
    "id": "LPPtx9F4ZTSs"
   },
   "outputs": [],
   "source": [
    "street.save()"
   ]
  },
  {
   "cell_type": "code",
   "execution_count": null,
   "metadata": {},
   "outputs": [],
   "source": [
    "street.load_data_from_json()"
   ]
  },
  {
   "cell_type": "code",
   "execution_count": null,
   "metadata": {
    "colab": {
     "base_uri": "https://localhost:8080/",
     "height": 483
    },
    "id": "1AT0GFVXZtsP",
    "outputId": "ba4c2e17-707d-4ff6-92f8-4075bb2f279f",
    "scrolled": true
   },
   "outputs": [],
   "source": [
    "# import folium\n",
    "# m = folium.Map(tiles=\"OpenStreetMap\")\n",
    "\n",
    "# images = folium.FeatureGroup(name='Images',overlay=True)\n",
    "# hotline = folium.FeatureGroup(name='Hot line',overlay=True)\n",
    "# heatmap = folium.FeatureGroup(name='Heat map',overlay=True)\n",
    "# piles = folium.FeatureGroup(name='Piles',overlay=True)\n",
    "# trashbins = folium.FeatureGroup(name='Trash bins',overlay=True)\n",
    "\n",
    "# images.add_to(m)\n",
    "# hotline.add_to(m)\n",
    "# heatmap.add_to(m)\n",
    "# piles.add_to(m)\n",
    "# trashbins.add_to(m)\n",
    "\n",
    "# folium.LayerControl().add_to(m)\n",
    "\n",
    "m = street.draw_street_on_map()\n",
    "m"
   ]
  },
  {
   "cell_type": "code",
   "execution_count": null,
   "metadata": {
    "id": "kOSEdXd3nITU"
   },
   "outputs": [],
   "source": [
    "m.save(street.images_dir+'/sample_video.html')"
   ]
  },
  {
   "cell_type": "code",
   "execution_count": null,
   "metadata": {},
   "outputs": [],
   "source": [
    "import os\n",
    "from plitterstreet.plitter_street import StreetData\n",
    "\n",
    "class City:\n",
    "    \n",
    "    def __init__(self, path_to_videos, path_to_frames=None, path_to_predictions=None):\n",
    "        if os.path.isdir(path_to_videos):\n",
    "            videos = list(filter(lambda f: f.lower().endswith(('.mp4', '.avi')), os.listdir(path_to_videos)))\n",
    "            if len(videos) > 1:\n",
    "                self.path = os.path.abspath(path_to_videos)\n",
    "                self.videos = videos\n",
    "        else:\n",
    "            print('Invalid path to videos')\n",
    "            return None\n",
    "        \n",
    "        if path_to_frames and os.path.isdir(path_to_frames):\n",
    "            self.path_to_frames = os.path.abspath(path_to_frames)\n",
    "        else:\n",
    "            self.path_to_frames = self.path\n",
    "            print('path to frames is invalid, choosing same as videos directory')\n",
    "        \n",
    "        if path_to_predictions and os.path.isdir(path_to_predictions):\n",
    "            self.path_to_predictions = os.path.abspath(path_to_predictions)\n",
    "        else:\n",
    "            self.path_to_predictions = self.path\n",
    "            print('path to predictions is invalid, choosing same as videos directory')\n",
    "            \n",
    "    def load_frames(self):\n",
    "        for video in self.videos:\n",
    "            print(video)\n",
    "            video_name = video.split('.')[0]\n",
    "            street = StreetData(os.path.join(self.path_to_frames,video_name))\n",
    "            street.load_images_from_list()\n",
    "            if street.images == []:\n",
    "                street.load_images_from_list()\n",
    "            if street.images == []:\n",
    "                print('NO frames found for'+ video)\n",
    "            else:\n",
    "                print(len(street.images), ' frames found for '+ video)\n",
    "#                 street.save(os.path.join(self.path_to_predictions, video_name))\n",
    "\n",
    "    def load_preds(self):\n",
    "        streets = {}\n",
    "        for video in self.videos:\n",
    "            print(video)\n",
    "            predictions = []\n",
    "            video_name = video.split('.')[0]\n",
    "            street = StreetData(os.path.join(self.path_to_frames, video_name), os.path.join(self.path_to_frames, video_name+'/'+video_name+'.csv'), os.path.join(self.path_to_predictions, video_name+'/'+video_name+'.json'))\n",
    "            print(street.images_list, street.images_json)\n",
    "            street.load_data_from_json()\n",
    "#             images.append(street.images)\n",
    "#             predictions += street.predictions\n",
    "            streets[video_name] = {'images': street.images, 'predictions': street.predictions}\n",
    "        return streets"
   ]
  },
  {
   "cell_type": "code",
   "execution_count": null,
   "metadata": {},
   "outputs": [],
   "source": [
    "ubon = City('/media/ryzen/DATA/ubon/videos', '/media/ryzen/DATA/ubon/frames', '/media/ryzen/DATA/ubon/predictions_v2')"
   ]
  },
  {
   "cell_type": "code",
   "execution_count": null,
   "metadata": {},
   "outputs": [],
   "source": [
    "p = ubon.load_preds()"
   ]
  },
  {
   "cell_type": "code",
   "execution_count": null,
   "metadata": {},
   "outputs": [],
   "source": [
    "import json\n",
    "json.dump(p, open(\"/media/ryzen/DATA/ubon/ubon_hotline.json\", \"w\"))"
   ]
  },
  {
   "cell_type": "code",
   "execution_count": null,
   "metadata": {},
   "outputs": [],
   "source": [
    "for j in p:\n",
    "    for i in p[j]['images']:\n",
    "        print(i)"
   ]
  },
  {
   "cell_type": "code",
   "execution_count": null,
   "metadata": {},
   "outputs": [],
   "source": [
    "plastic = 0\n",
    "pile = 0\n",
    "trashbin = 0\n",
    "mask = 0\n",
    "for j in p:\n",
    "    for i in j:\n",
    "        if i['Plastic']:\n",
    "            plastic += i['Plastic']\n",
    "        if i['Pile']:\n",
    "            pile += i['Pile']\n",
    "        if i['Trash bin']:\n",
    "            trashbin += i['Trash bin']\n",
    "        if i['Face mask']:\n",
    "            mask += i['Face mask']\n",
    "\n",
    "print('Plastic: ', plastic, 'Pile: ', pile, 'Trash bin: ', trashbin, 'Face mask: ', mask)"
   ]
  },
  {
   "cell_type": "code",
   "execution_count": null,
   "metadata": {},
   "outputs": [],
   "source": [
    "for j in p:\n",
    "    print(len(j))"
   ]
  },
  {
   "cell_type": "code",
   "execution_count": null,
   "metadata": {},
   "outputs": [],
   "source": [
    "m = None\n",
    "import folium\n",
    "from folium.plugins import HeatMap, FastMarkerCluster\n",
    "from folium.features import ColorLine\n",
    "\n",
    "# get color and opacity\n",
    "\n",
    "def get_color(val):\n",
    "\n",
    "    valitudes = {\n",
    "        0: '#008800',\n",
    "        1: '#5d8800',\n",
    "        5: '#7d8800',\n",
    "        10: '#887600',\n",
    "        20: '#885800',\n",
    "        30: '#883f00',\n",
    "        50: '#883900',\n",
    "        70: '#882700',\n",
    "        90: '#881000',\n",
    "        100: '#880000',\n",
    "    }\n",
    "    first = -1\n",
    "    for valitude in valitudes.keys():\n",
    "        if first < val <= valitude:\n",
    "            return valitudes[valitude]\n",
    "        first = valitude\n",
    "    return '#FF0000'\n",
    "\n",
    "icon_circle = folium.plugins.BeautifyIcon(\n",
    "    icon_shape='circle-dot', \n",
    "    border_color='green', \n",
    "    border_width=10,\n",
    ")\n",
    "\n",
    "# icon_bin=folium.Icon(color=\"blue\",icon=\"trash\", prefix='fa')\n",
    "\n",
    "# icon_pile=folium.Icon(color=\"red\",icon=\"dumpster-fire\", prefix='fa')\n",
    "\n",
    "m = folium.Map(tiles=\"OpenStreetMap\", prefer_canvas=True, max_zoom = 25)\n",
    "\n",
    "images = folium.FeatureGroup(name='Images',overlay=True)\n",
    "hotline = folium.FeatureGroup(name='Hot line',overlay=True)\n",
    "heatmap = folium.FeatureGroup(name='Heat map',overlay=True)\n",
    "piles = folium.FeatureGroup(name='Piles',overlay=True)\n",
    "trashbins = folium.FeatureGroup(name='Trash bins',overlay=True)\n",
    "\n",
    "images.add_to(m)\n",
    "hotline.add_to(m)\n",
    "heatmap.add_to(m)\n",
    "piles.add_to(m)\n",
    "trashbins.add_to(m)\n",
    "\n",
    "# folium.LayerControl().add_to(m) \n",
    "\n",
    "images_points = []\n",
    "\n",
    "heat_data = []\n",
    "max_count = 0\n",
    "for points in p:\n",
    "    print(len(points))\n",
    "    for k in range(len(points)):\n",
    "#         images_points.append([float(points[k]['latitude']), float(points[k]['longitude'])])\n",
    "#         if points[k]['Trash bin']:\n",
    "#             folium.Marker([float(points[k]['latitude']), float(points[k]['longitude'])], icon=folium.Icon(color=\"blue\")).add_to(trashbins)\n",
    "#         if points[k]['Pile']:\n",
    "#             folium.Marker([float(points[k]['latitude']), float(points[k]['longitude'])], icon=folium.Icon(color=\"red\")).add_to(piles)\n",
    "#         folium.CircleMarker([float(points[k]['latitude']), float(points[k]['longitude'])], radius=.1, popup=\"<i>\"+points[k]['name']+\"</i>\", tooltip=points[k]['name'], icon=icon_circle).add_to(images)\n",
    "        if k < len(points)-1:\n",
    "            p1_count = points[k]['Plastic']+points[k]['Face mask']+points[k]['Pile']*100\n",
    "            p2_count = points[k+1]['Plastic']+points[k+1]['Face mask']+points[k+1]['Pile']*100\n",
    "            avg_count = (p1_count+p2_count)//2\n",
    "            if max_count < avg_count:\n",
    "                max_count = avg_count\n",
    "            color = get_color((p1_count+p2_count)//2)\n",
    "            heat_data.append([points[k]['latitude'], points[k]['longitude'], avg_count])\n",
    "#             print(points[k]['latitude'], points[k]['longitude'], points[k+1]['latitude'], points[k+1]['longitude'])\n",
    "            ColorLine(\n",
    "                [\n",
    "                    [points[k]['latitude'], points[k]['longitude']],\n",
    "                    [points[k+1]['latitude'], points[k+1]['longitude']],\n",
    "                ],\n",
    "                colors=[1],\n",
    "                colormap=[color, color],\n",
    "                weight=3,\n",
    "            ).add_to(m)\n",
    "\n",
    "HeatMap(heat_data, radius = 10, min_opacity = 0.1, max_val = max_count, gradient={.0: 'green', .1: 'yellow', .5: 'red', .9: 'blue'}).add_to(heatmap)\n",
    "#     break\n",
    "# FastMarkerCluster(data=images_points, icon_create_function=None).add_to(images)\n",
    "m.fit_bounds(m.get_bounds())"
   ]
  },
  {
   "cell_type": "code",
   "execution_count": null,
   "metadata": {},
   "outputs": [],
   "source": [
    "m"
   ]
  },
  {
   "cell_type": "code",
   "execution_count": null,
   "metadata": {},
   "outputs": [],
   "source": [
    "m"
   ]
  },
  {
   "cell_type": "code",
   "execution_count": null,
   "metadata": {},
   "outputs": [],
   "source": [
    "m.save('/media/ryzen/DATA/ubon_fastimages.html')"
   ]
  },
  {
   "cell_type": "code",
   "execution_count": null,
   "metadata": {},
   "outputs": [],
   "source": [
    "m"
   ]
  },
  {
   "cell_type": "code",
   "execution_count": null,
   "metadata": {},
   "outputs": [],
   "source": [
    "import os, csv\n",
    "from exif import Image\n",
    "\n",
    "def convert2decimal(coords, ref):\n",
    "        decimal_degrees = coords[0] + coords[1] / 60 + coords[2] / 3600\n",
    "        if ref == \"S\" or ref == \"W\":\n",
    "            decimal_degrees = -decimal_degrees\n",
    "        return decimal_degrees\n",
    "\n",
    "\n",
    "for video in os.listdir('/media/ryzen/DATA/ubon/frames'):\n",
    "    if not video in ['GH010028', 'GH010029', 'GH010030', 'GH010031', 'GH010032', 'GH010033', 'GH010034', 'GH010035', 'GH010036', 'GH010037', 'GH010038', 'GH010039', 'GH010041', 'GH010042', 'GH010043', 'GH010044', 'GH010045', 'GH010047', 'GH010048', 'GH010049', 'GH010051', 'GH010052', 'GH010053', 'GH010054']:\n",
    "        print(video)\n",
    "        data = [['Name','Latitude','Longitude']]\n",
    "        images = os.listdir('/media/ryzen/DATA/ubon/frames/'+video)\n",
    "        images.sort(key=lambda f: int(\"\".join(filter(str.isdigit, f))))\n",
    "        for image in images:\n",
    "            if image.endswith('.jpg'):\n",
    "                img_exif = Image(open('/media/ryzen/DATA/ubon/frames/'+video+'/'+image, 'rb'))\n",
    "                if img_exif.has_exif:\n",
    "                    if 'gps_longitude' in img_exif.list_all() and 'gps_latitude' in img_exif.list_all():\n",
    "                        row = []\n",
    "                        row.append(image)\n",
    "                        row.append(round(convert2decimal(img_exif.gps_latitude, img_exif.gps_latitude_ref), 7))\n",
    "                        row.append(round(convert2decimal(img_exif.gps_longitude, img_exif.gps_longitude_ref), 7))\n",
    "                        data.append(row)\n",
    "    \n",
    "        with open('/media/ryzen/DATA/ubon/frames/'+video+'/'+video+'.csv', 'w') as csvf:\n",
    "            writer = csv.writer(csvf)\n",
    "            for row in data:\n",
    "                writer.writerow(row)\n"
   ]
  },
  {
   "cell_type": "code",
   "execution_count": null,
   "metadata": {},
   "outputs": [],
   "source": [
    "import os, csv, json\n",
    "\n",
    "for video in os.listdir('/media/ryzen/DATA/ubon/frames'):\n",
    "    if video == 'GH010036-002':\n",
    "        continue\n",
    "    print(video)\n",
    "    data = {}\n",
    "    data['images'] = []\n",
    "    data['predictions'] = []\n",
    "    if not os.path.isfile('/media/ryzen/DATA/ubon/frames/'+video+'/'+video+'.csv'):\n",
    "        print('no file found')\n",
    "        continue\n",
    "    with open('/media/ryzen/DATA/ubon/frames/'+video+'/'+video+'.csv', 'r') as csvf:\n",
    "        reader = csv.DictReader(csvf)\n",
    "        for row in reader:\n",
    "            image = {'name': row['Name'], 'latitude': float(row['Latitude']), 'longitude': float(row['Longitude']), 'Plastic': 0, 'Pile': 0, 'Trash bin': 0, 'Face mask': 0}\n",
    "            data['images'].append(image)\n",
    "    with open('/media/ryzen/DATA/ubon/predictions_v2/'+video+'/'+video+'.csv', 'r') as csvp:\n",
    "        reader = csv.reader(csvp)\n",
    "        for row in reader:\n",
    "            if row:\n",
    "#                 print(row)\n",
    "                name = row[0]\n",
    "                cat = row[1]\n",
    "                x1 = row[2]\n",
    "                y1 = row[3]\n",
    "                x2 = row[4]\n",
    "                y2 = row[5]\n",
    "                score = row[6]\n",
    "                image = next((im for im in data['images'] if im['name'] == name), False)\n",
    "                if not image:\n",
    "                    print(name)\n",
    "                    break\n",
    "                image[cat] += 1\n",
    "                data['predictions'].append({'image': name, 'class': cat, 'box': [x1, y1, x2, y2], 'score': score})\n",
    "    with open('/media/ryzen/DATA/ubon/predictions_v2/'+video+'/'+video+'.json', 'w') as jsf:\n",
    "        json.dump(data, jsf)"
   ]
  },
  {
   "cell_type": "code",
   "execution_count": null,
   "metadata": {
    "scrolled": true
   },
   "outputs": [],
   "source": [
    "for video in os.listdir('/media/ryzen/DATA/ubon/predictions_v2'):\n",
    "    with open('/media/ryzen/DATA/ubon/predictions_v2/'+video+'/'+video+'.csv', 'r') as csvf:\n",
    "        reader = csv.DictReader(csvf)\n",
    "        a = []\n",
    "        for row in reader:\n",
    "            a.append(row)\n",
    "        if a == []:\n",
    "            print(video)"
   ]
  },
  {
   "cell_type": "code",
   "execution_count": null,
   "metadata": {},
   "outputs": [],
   "source": [
    "if not '':\n",
    "    print(1)"
   ]
  },
  {
   "cell_type": "code",
   "execution_count": null,
   "metadata": {},
   "outputs": [],
   "source": []
  }
 ],
 "metadata": {
  "colab": {
   "collapsed_sections": [],
   "name": "pLitterStreet_demo.ipynb",
   "provenance": []
  },
  "kernelspec": {
   "display_name": "Python 3 (ipykernel)",
   "language": "python",
   "name": "python3"
  },
  "language_info": {
   "codemirror_mode": {
    "name": "ipython",
    "version": 3
   },
   "file_extension": ".py",
   "mimetype": "text/x-python",
   "name": "python",
   "nbconvert_exporter": "python",
   "pygments_lexer": "ipython3",
   "version": "3.9.5"
  }
 },
 "nbformat": 4,
 "nbformat_minor": 1
}
