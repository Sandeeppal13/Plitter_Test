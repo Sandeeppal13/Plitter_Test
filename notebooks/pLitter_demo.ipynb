{
  "cells": [
    {
      "cell_type": "code",
      "execution_count": null,
      "metadata": {},
      "outputs": [],
      "source": [
        "!git clone https://github.com/gicait/pLitter.git\n",
        "%cd pLitter\n",
        "!pip install -e ."
      ]
    },
    {
      "cell_type": "code",
      "execution_count": null,
      "metadata": {
        "id": "FO31crDY2ItQ"
      },
      "outputs": [],
      "source": [
        "!mkdir ./data\n",
        "!wget -O ./data/pLitterStreet_Sample_DATA.zip https://github.com/gicait/pLitter/releases/download/v0.0.0-street/pLitterStreet_Sample_DATA.zip\n",
        "!unzip ./data/pLitterStreet_Sample_DATA.zip -d ./data/.\n",
        "# !rm -rf './data/pLitterStreet_Sample_DATA.zip'"
      ]
    },
    {
      "cell_type": "code",
      "execution_count": null,
      "metadata": {},
      "outputs": [],
      "source": [
        "from plitter import mobileMapper\n",
        "from plitter.detector import detector\n",
        "import time\n",
        "\n",
        "model = detector.load('street')\n",
        "track = mobileMapper.pTrack('./data')\n",
        "\n",
        "start = time.time()\n",
        "track.load()\n",
        "track.detect(model, skip_frames=4)\n",
        "end = time.time()\n",
        "\n",
        "print(\"Time taken: \", end - start, \" seconds\")\n",
        "\n",
        "track.export('./data/sample.geojson')"
      ]
    }
  ],
  "metadata": {
    "accelerator": "GPU",
    "colab": {
      "collapsed_sections": [],
      "provenance": []
    },
    "kernelspec": {
      "display_name": "Python 3.8.9 64-bit",
      "language": "python",
      "name": "python3"
    },
    "language_info": {
      "name": "python",
      "version": "3.6.9 (default, Nov 25 2022, 14:10:45) \n[GCC 8.4.0]"
    },
    "vscode": {
      "interpreter": {
        "hash": "31f2aee4e71d21fbe5cf8b01ff0e069b9275f58929596ceb00d14d90e3e16cd6"
      }
    }
  },
  "nbformat": 4,
  "nbformat_minor": 0
}
